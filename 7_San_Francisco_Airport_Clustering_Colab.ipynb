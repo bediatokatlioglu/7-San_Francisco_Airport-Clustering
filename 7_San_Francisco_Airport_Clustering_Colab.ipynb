{
  "cells": [
    {
      "cell_type": "markdown",
      "id": "dc56267e",
      "metadata": {
        "id": "dc56267e"
      },
      "source": [
        "# San Francisco Airport - Clustering"
      ]
    },
    {
      "cell_type": "markdown",
      "id": "cb0c3d24",
      "metadata": {
        "id": "cb0c3d24"
      },
      "source": [
        "<img src='san-francisco-airport-map.jpg'>"
      ]
    },
    {
      "cell_type": "code",
      "execution_count": 1,
      "id": "e34d4ce0",
      "metadata": {
        "id": "e34d4ce0"
      },
      "outputs": [],
      "source": [
        "#İmporting\n",
        "import pandas as pd\n",
        "import numpy as np\n",
        "import seaborn as sns\n",
        "import matplotlib.pyplot as plt\n",
        "%matplotlib inline\n",
        "import warnings\n",
        "warnings.filterwarnings(\"ignore\")"
      ]
    },
    {
      "cell_type": "code",
      "execution_count": 2,
      "id": "dff90d09",
      "metadata": {
        "id": "dff90d09"
      },
      "outputs": [],
      "source": [
        "#Reading DATA"
      ]
    },
    {
      "cell_type": "code",
      "execution_count": 5,
      "id": "9a00c0a7",
      "metadata": {
        "id": "9a00c0a7"
      },
      "outputs": [],
      "source": [
        "df=pd.read_csv(\"air-traffic-passenger-statistics.csv\")"
      ]
    },
    {
      "cell_type": "code",
      "execution_count": 6,
      "id": "0b89c3af",
      "metadata": {
        "collapsed": true,
        "colab": {
          "base_uri": "https://localhost:8080/",
          "height": 354
        },
        "id": "0b89c3af",
        "outputId": "efb0e1be-0cba-4d37-c4c7-9f4fbf3d9175"
      },
      "outputs": [
        {
          "output_type": "execute_result",
          "data": {
            "text/plain": [
              "   Activity Period Operating Airline Operating Airline IATA Code  \\\n",
              "0           200507      ATA Airlines                          TZ   \n",
              "1           200507      ATA Airlines                          TZ   \n",
              "2           200507      ATA Airlines                          TZ   \n",
              "3           200507        Air Canada                          AC   \n",
              "4           200507        Air Canada                          AC   \n",
              "\n",
              "  Published Airline Published Airline IATA Code    GEO Summary GEO Region  \\\n",
              "0      ATA Airlines                          TZ       Domestic         US   \n",
              "1      ATA Airlines                          TZ       Domestic         US   \n",
              "2      ATA Airlines                          TZ       Domestic         US   \n",
              "3        Air Canada                          AC  International     Canada   \n",
              "4        Air Canada                          AC  International     Canada   \n",
              "\n",
              "  Activity Type Code Price Category Code    Terminal Boarding Area  \\\n",
              "0           Deplaned            Low Fare  Terminal 1             B   \n",
              "1           Enplaned            Low Fare  Terminal 1             B   \n",
              "2     Thru / Transit            Low Fare  Terminal 1             B   \n",
              "3           Deplaned               Other  Terminal 1             B   \n",
              "4           Enplaned               Other  Terminal 1             B   \n",
              "\n",
              "   Passenger Count  \n",
              "0            27271  \n",
              "1            29131  \n",
              "2             5415  \n",
              "3            35156  \n",
              "4            34090  "
            ],
            "text/html": [
              "\n",
              "  <div id=\"df-7e66ea0c-c224-4bbe-957e-87fb6e704ae9\">\n",
              "    <div class=\"colab-df-container\">\n",
              "      <div>\n",
              "<style scoped>\n",
              "    .dataframe tbody tr th:only-of-type {\n",
              "        vertical-align: middle;\n",
              "    }\n",
              "\n",
              "    .dataframe tbody tr th {\n",
              "        vertical-align: top;\n",
              "    }\n",
              "\n",
              "    .dataframe thead th {\n",
              "        text-align: right;\n",
              "    }\n",
              "</style>\n",
              "<table border=\"1\" class=\"dataframe\">\n",
              "  <thead>\n",
              "    <tr style=\"text-align: right;\">\n",
              "      <th></th>\n",
              "      <th>Activity Period</th>\n",
              "      <th>Operating Airline</th>\n",
              "      <th>Operating Airline IATA Code</th>\n",
              "      <th>Published Airline</th>\n",
              "      <th>Published Airline IATA Code</th>\n",
              "      <th>GEO Summary</th>\n",
              "      <th>GEO Region</th>\n",
              "      <th>Activity Type Code</th>\n",
              "      <th>Price Category Code</th>\n",
              "      <th>Terminal</th>\n",
              "      <th>Boarding Area</th>\n",
              "      <th>Passenger Count</th>\n",
              "    </tr>\n",
              "  </thead>\n",
              "  <tbody>\n",
              "    <tr>\n",
              "      <th>0</th>\n",
              "      <td>200507</td>\n",
              "      <td>ATA Airlines</td>\n",
              "      <td>TZ</td>\n",
              "      <td>ATA Airlines</td>\n",
              "      <td>TZ</td>\n",
              "      <td>Domestic</td>\n",
              "      <td>US</td>\n",
              "      <td>Deplaned</td>\n",
              "      <td>Low Fare</td>\n",
              "      <td>Terminal 1</td>\n",
              "      <td>B</td>\n",
              "      <td>27271</td>\n",
              "    </tr>\n",
              "    <tr>\n",
              "      <th>1</th>\n",
              "      <td>200507</td>\n",
              "      <td>ATA Airlines</td>\n",
              "      <td>TZ</td>\n",
              "      <td>ATA Airlines</td>\n",
              "      <td>TZ</td>\n",
              "      <td>Domestic</td>\n",
              "      <td>US</td>\n",
              "      <td>Enplaned</td>\n",
              "      <td>Low Fare</td>\n",
              "      <td>Terminal 1</td>\n",
              "      <td>B</td>\n",
              "      <td>29131</td>\n",
              "    </tr>\n",
              "    <tr>\n",
              "      <th>2</th>\n",
              "      <td>200507</td>\n",
              "      <td>ATA Airlines</td>\n",
              "      <td>TZ</td>\n",
              "      <td>ATA Airlines</td>\n",
              "      <td>TZ</td>\n",
              "      <td>Domestic</td>\n",
              "      <td>US</td>\n",
              "      <td>Thru / Transit</td>\n",
              "      <td>Low Fare</td>\n",
              "      <td>Terminal 1</td>\n",
              "      <td>B</td>\n",
              "      <td>5415</td>\n",
              "    </tr>\n",
              "    <tr>\n",
              "      <th>3</th>\n",
              "      <td>200507</td>\n",
              "      <td>Air Canada</td>\n",
              "      <td>AC</td>\n",
              "      <td>Air Canada</td>\n",
              "      <td>AC</td>\n",
              "      <td>International</td>\n",
              "      <td>Canada</td>\n",
              "      <td>Deplaned</td>\n",
              "      <td>Other</td>\n",
              "      <td>Terminal 1</td>\n",
              "      <td>B</td>\n",
              "      <td>35156</td>\n",
              "    </tr>\n",
              "    <tr>\n",
              "      <th>4</th>\n",
              "      <td>200507</td>\n",
              "      <td>Air Canada</td>\n",
              "      <td>AC</td>\n",
              "      <td>Air Canada</td>\n",
              "      <td>AC</td>\n",
              "      <td>International</td>\n",
              "      <td>Canada</td>\n",
              "      <td>Enplaned</td>\n",
              "      <td>Other</td>\n",
              "      <td>Terminal 1</td>\n",
              "      <td>B</td>\n",
              "      <td>34090</td>\n",
              "    </tr>\n",
              "  </tbody>\n",
              "</table>\n",
              "</div>\n",
              "      <button class=\"colab-df-convert\" onclick=\"convertToInteractive('df-7e66ea0c-c224-4bbe-957e-87fb6e704ae9')\"\n",
              "              title=\"Convert this dataframe to an interactive table.\"\n",
              "              style=\"display:none;\">\n",
              "        \n",
              "  <svg xmlns=\"http://www.w3.org/2000/svg\" height=\"24px\"viewBox=\"0 0 24 24\"\n",
              "       width=\"24px\">\n",
              "    <path d=\"M0 0h24v24H0V0z\" fill=\"none\"/>\n",
              "    <path d=\"M18.56 5.44l.94 2.06.94-2.06 2.06-.94-2.06-.94-.94-2.06-.94 2.06-2.06.94zm-11 1L8.5 8.5l.94-2.06 2.06-.94-2.06-.94L8.5 2.5l-.94 2.06-2.06.94zm10 10l.94 2.06.94-2.06 2.06-.94-2.06-.94-.94-2.06-.94 2.06-2.06.94z\"/><path d=\"M17.41 7.96l-1.37-1.37c-.4-.4-.92-.59-1.43-.59-.52 0-1.04.2-1.43.59L10.3 9.45l-7.72 7.72c-.78.78-.78 2.05 0 2.83L4 21.41c.39.39.9.59 1.41.59.51 0 1.02-.2 1.41-.59l7.78-7.78 2.81-2.81c.8-.78.8-2.07 0-2.86zM5.41 20L4 18.59l7.72-7.72 1.47 1.35L5.41 20z\"/>\n",
              "  </svg>\n",
              "      </button>\n",
              "      \n",
              "  <style>\n",
              "    .colab-df-container {\n",
              "      display:flex;\n",
              "      flex-wrap:wrap;\n",
              "      gap: 12px;\n",
              "    }\n",
              "\n",
              "    .colab-df-convert {\n",
              "      background-color: #E8F0FE;\n",
              "      border: none;\n",
              "      border-radius: 50%;\n",
              "      cursor: pointer;\n",
              "      display: none;\n",
              "      fill: #1967D2;\n",
              "      height: 32px;\n",
              "      padding: 0 0 0 0;\n",
              "      width: 32px;\n",
              "    }\n",
              "\n",
              "    .colab-df-convert:hover {\n",
              "      background-color: #E2EBFA;\n",
              "      box-shadow: 0px 1px 2px rgba(60, 64, 67, 0.3), 0px 1px 3px 1px rgba(60, 64, 67, 0.15);\n",
              "      fill: #174EA6;\n",
              "    }\n",
              "\n",
              "    [theme=dark] .colab-df-convert {\n",
              "      background-color: #3B4455;\n",
              "      fill: #D2E3FC;\n",
              "    }\n",
              "\n",
              "    [theme=dark] .colab-df-convert:hover {\n",
              "      background-color: #434B5C;\n",
              "      box-shadow: 0px 1px 3px 1px rgba(0, 0, 0, 0.15);\n",
              "      filter: drop-shadow(0px 1px 2px rgba(0, 0, 0, 0.3));\n",
              "      fill: #FFFFFF;\n",
              "    }\n",
              "  </style>\n",
              "\n",
              "      <script>\n",
              "        const buttonEl =\n",
              "          document.querySelector('#df-7e66ea0c-c224-4bbe-957e-87fb6e704ae9 button.colab-df-convert');\n",
              "        buttonEl.style.display =\n",
              "          google.colab.kernel.accessAllowed ? 'block' : 'none';\n",
              "\n",
              "        async function convertToInteractive(key) {\n",
              "          const element = document.querySelector('#df-7e66ea0c-c224-4bbe-957e-87fb6e704ae9');\n",
              "          const dataTable =\n",
              "            await google.colab.kernel.invokeFunction('convertToInteractive',\n",
              "                                                     [key], {});\n",
              "          if (!dataTable) return;\n",
              "\n",
              "          const docLinkHtml = 'Like what you see? Visit the ' +\n",
              "            '<a target=\"_blank\" href=https://colab.research.google.com/notebooks/data_table.ipynb>data table notebook</a>'\n",
              "            + ' to learn more about interactive tables.';\n",
              "          element.innerHTML = '';\n",
              "          dataTable['output_type'] = 'display_data';\n",
              "          await google.colab.output.renderOutput(dataTable, element);\n",
              "          const docLink = document.createElement('div');\n",
              "          docLink.innerHTML = docLinkHtml;\n",
              "          element.appendChild(docLink);\n",
              "        }\n",
              "      </script>\n",
              "    </div>\n",
              "  </div>\n",
              "  "
            ]
          },
          "metadata": {},
          "execution_count": 6
        }
      ],
      "source": [
        "df.head()"
      ]
    },
    {
      "cell_type": "code",
      "execution_count": 7,
      "id": "a73550f4",
      "metadata": {
        "colab": {
          "base_uri": "https://localhost:8080/"
        },
        "id": "a73550f4",
        "outputId": "a154ff75-36ea-4dce-a7ef-f005f27ead9b"
      },
      "outputs": [
        {
          "output_type": "execute_result",
          "data": {
            "text/plain": [
              "(18885, 12)"
            ]
          },
          "metadata": {},
          "execution_count": 7
        }
      ],
      "source": [
        "df.shape"
      ]
    },
    {
      "cell_type": "code",
      "execution_count": 8,
      "id": "b322f91b",
      "metadata": {
        "colab": {
          "base_uri": "https://localhost:8080/",
          "height": 563
        },
        "id": "b322f91b",
        "outputId": "096966ef-72bc-49c1-d60a-baaeaec3000e"
      },
      "outputs": [
        {
          "output_type": "execute_result",
          "data": {
            "text/plain": [
              "       Activity Period                 Operating Airline  \\\n",
              "1946            200611  United Airlines - Pre 07/01/2013   \n",
              "10059           201209                  SkyWest Airlines   \n",
              "15755           201609                    Qantas Airways   \n",
              "6503            201002  United Airlines - Pre 07/01/2013   \n",
              "13248           201501                  SkyWest Airlines   \n",
              "1126            200604  United Airlines - Pre 07/01/2013   \n",
              "10912           201305                   Alaska Airlines   \n",
              "6548            201003                    Cathay Pacific   \n",
              "15771           201609              Sun Country Airlines   \n",
              "13310           201502                   Air New Zealand   \n",
              "\n",
              "      Operating Airline IATA Code                 Published Airline  \\\n",
              "1946                           UA  United Airlines - Pre 07/01/2013   \n",
              "10059                          OO  United Airlines - Pre 07/01/2013   \n",
              "15755                          QF                    Qantas Airways   \n",
              "6503                           UA  United Airlines - Pre 07/01/2013   \n",
              "13248                          OO                   United Airlines   \n",
              "1126                           UA  United Airlines - Pre 07/01/2013   \n",
              "10912                          AS                   Alaska Airlines   \n",
              "6548                           CX                    Cathay Pacific   \n",
              "15771                          SY              Sun Country Airlines   \n",
              "13310                          NZ                   Air New Zealand   \n",
              "\n",
              "      Published Airline IATA Code    GEO Summary           GEO Region  \\\n",
              "1946                           UA  International               Europe   \n",
              "10059                          UA       Domestic                   US   \n",
              "15755                          QF  International  Australia / Oceania   \n",
              "6503                           UA       Domestic                   US   \n",
              "13248                          UA  International               Canada   \n",
              "1126                           UA  International  Australia / Oceania   \n",
              "10912                          AS  International               Mexico   \n",
              "6548                           CX  International                 Asia   \n",
              "15771                          SY       Domestic                   US   \n",
              "13310                          NZ  International  Australia / Oceania   \n",
              "\n",
              "      Activity Type Code Price Category Code       Terminal Boarding Area  \\\n",
              "1946      Thru / Transit               Other  International             G   \n",
              "10059           Enplaned               Other     Terminal 1             B   \n",
              "15755           Deplaned               Other  International             A   \n",
              "6503      Thru / Transit               Other     Terminal 3             F   \n",
              "13248           Deplaned               Other  International             G   \n",
              "1126      Thru / Transit               Other  International             G   \n",
              "10912           Enplaned               Other     Terminal 1             B   \n",
              "6548            Enplaned               Other  International             A   \n",
              "15771           Deplaned            Low Fare  International             A   \n",
              "13310           Enplaned               Other  International             G   \n",
              "\n",
              "       Passenger Count  \n",
              "1946               826  \n",
              "10059            88807  \n",
              "15755             8382  \n",
              "6503              5124  \n",
              "13248             1273  \n",
              "1126               917  \n",
              "10912             5606  \n",
              "6548             20308  \n",
              "15771             7538  \n",
              "13310            11436  "
            ],
            "text/html": [
              "\n",
              "  <div id=\"df-360a26a4-00bf-4410-be3e-53529444445d\">\n",
              "    <div class=\"colab-df-container\">\n",
              "      <div>\n",
              "<style scoped>\n",
              "    .dataframe tbody tr th:only-of-type {\n",
              "        vertical-align: middle;\n",
              "    }\n",
              "\n",
              "    .dataframe tbody tr th {\n",
              "        vertical-align: top;\n",
              "    }\n",
              "\n",
              "    .dataframe thead th {\n",
              "        text-align: right;\n",
              "    }\n",
              "</style>\n",
              "<table border=\"1\" class=\"dataframe\">\n",
              "  <thead>\n",
              "    <tr style=\"text-align: right;\">\n",
              "      <th></th>\n",
              "      <th>Activity Period</th>\n",
              "      <th>Operating Airline</th>\n",
              "      <th>Operating Airline IATA Code</th>\n",
              "      <th>Published Airline</th>\n",
              "      <th>Published Airline IATA Code</th>\n",
              "      <th>GEO Summary</th>\n",
              "      <th>GEO Region</th>\n",
              "      <th>Activity Type Code</th>\n",
              "      <th>Price Category Code</th>\n",
              "      <th>Terminal</th>\n",
              "      <th>Boarding Area</th>\n",
              "      <th>Passenger Count</th>\n",
              "    </tr>\n",
              "  </thead>\n",
              "  <tbody>\n",
              "    <tr>\n",
              "      <th>1946</th>\n",
              "      <td>200611</td>\n",
              "      <td>United Airlines - Pre 07/01/2013</td>\n",
              "      <td>UA</td>\n",
              "      <td>United Airlines - Pre 07/01/2013</td>\n",
              "      <td>UA</td>\n",
              "      <td>International</td>\n",
              "      <td>Europe</td>\n",
              "      <td>Thru / Transit</td>\n",
              "      <td>Other</td>\n",
              "      <td>International</td>\n",
              "      <td>G</td>\n",
              "      <td>826</td>\n",
              "    </tr>\n",
              "    <tr>\n",
              "      <th>10059</th>\n",
              "      <td>201209</td>\n",
              "      <td>SkyWest Airlines</td>\n",
              "      <td>OO</td>\n",
              "      <td>United Airlines - Pre 07/01/2013</td>\n",
              "      <td>UA</td>\n",
              "      <td>Domestic</td>\n",
              "      <td>US</td>\n",
              "      <td>Enplaned</td>\n",
              "      <td>Other</td>\n",
              "      <td>Terminal 1</td>\n",
              "      <td>B</td>\n",
              "      <td>88807</td>\n",
              "    </tr>\n",
              "    <tr>\n",
              "      <th>15755</th>\n",
              "      <td>201609</td>\n",
              "      <td>Qantas Airways</td>\n",
              "      <td>QF</td>\n",
              "      <td>Qantas Airways</td>\n",
              "      <td>QF</td>\n",
              "      <td>International</td>\n",
              "      <td>Australia / Oceania</td>\n",
              "      <td>Deplaned</td>\n",
              "      <td>Other</td>\n",
              "      <td>International</td>\n",
              "      <td>A</td>\n",
              "      <td>8382</td>\n",
              "    </tr>\n",
              "    <tr>\n",
              "      <th>6503</th>\n",
              "      <td>201002</td>\n",
              "      <td>United Airlines - Pre 07/01/2013</td>\n",
              "      <td>UA</td>\n",
              "      <td>United Airlines - Pre 07/01/2013</td>\n",
              "      <td>UA</td>\n",
              "      <td>Domestic</td>\n",
              "      <td>US</td>\n",
              "      <td>Thru / Transit</td>\n",
              "      <td>Other</td>\n",
              "      <td>Terminal 3</td>\n",
              "      <td>F</td>\n",
              "      <td>5124</td>\n",
              "    </tr>\n",
              "    <tr>\n",
              "      <th>13248</th>\n",
              "      <td>201501</td>\n",
              "      <td>SkyWest Airlines</td>\n",
              "      <td>OO</td>\n",
              "      <td>United Airlines</td>\n",
              "      <td>UA</td>\n",
              "      <td>International</td>\n",
              "      <td>Canada</td>\n",
              "      <td>Deplaned</td>\n",
              "      <td>Other</td>\n",
              "      <td>International</td>\n",
              "      <td>G</td>\n",
              "      <td>1273</td>\n",
              "    </tr>\n",
              "    <tr>\n",
              "      <th>1126</th>\n",
              "      <td>200604</td>\n",
              "      <td>United Airlines - Pre 07/01/2013</td>\n",
              "      <td>UA</td>\n",
              "      <td>United Airlines - Pre 07/01/2013</td>\n",
              "      <td>UA</td>\n",
              "      <td>International</td>\n",
              "      <td>Australia / Oceania</td>\n",
              "      <td>Thru / Transit</td>\n",
              "      <td>Other</td>\n",
              "      <td>International</td>\n",
              "      <td>G</td>\n",
              "      <td>917</td>\n",
              "    </tr>\n",
              "    <tr>\n",
              "      <th>10912</th>\n",
              "      <td>201305</td>\n",
              "      <td>Alaska Airlines</td>\n",
              "      <td>AS</td>\n",
              "      <td>Alaska Airlines</td>\n",
              "      <td>AS</td>\n",
              "      <td>International</td>\n",
              "      <td>Mexico</td>\n",
              "      <td>Enplaned</td>\n",
              "      <td>Other</td>\n",
              "      <td>Terminal 1</td>\n",
              "      <td>B</td>\n",
              "      <td>5606</td>\n",
              "    </tr>\n",
              "    <tr>\n",
              "      <th>6548</th>\n",
              "      <td>201003</td>\n",
              "      <td>Cathay Pacific</td>\n",
              "      <td>CX</td>\n",
              "      <td>Cathay Pacific</td>\n",
              "      <td>CX</td>\n",
              "      <td>International</td>\n",
              "      <td>Asia</td>\n",
              "      <td>Enplaned</td>\n",
              "      <td>Other</td>\n",
              "      <td>International</td>\n",
              "      <td>A</td>\n",
              "      <td>20308</td>\n",
              "    </tr>\n",
              "    <tr>\n",
              "      <th>15771</th>\n",
              "      <td>201609</td>\n",
              "      <td>Sun Country Airlines</td>\n",
              "      <td>SY</td>\n",
              "      <td>Sun Country Airlines</td>\n",
              "      <td>SY</td>\n",
              "      <td>Domestic</td>\n",
              "      <td>US</td>\n",
              "      <td>Deplaned</td>\n",
              "      <td>Low Fare</td>\n",
              "      <td>International</td>\n",
              "      <td>A</td>\n",
              "      <td>7538</td>\n",
              "    </tr>\n",
              "    <tr>\n",
              "      <th>13310</th>\n",
              "      <td>201502</td>\n",
              "      <td>Air New Zealand</td>\n",
              "      <td>NZ</td>\n",
              "      <td>Air New Zealand</td>\n",
              "      <td>NZ</td>\n",
              "      <td>International</td>\n",
              "      <td>Australia / Oceania</td>\n",
              "      <td>Enplaned</td>\n",
              "      <td>Other</td>\n",
              "      <td>International</td>\n",
              "      <td>G</td>\n",
              "      <td>11436</td>\n",
              "    </tr>\n",
              "  </tbody>\n",
              "</table>\n",
              "</div>\n",
              "      <button class=\"colab-df-convert\" onclick=\"convertToInteractive('df-360a26a4-00bf-4410-be3e-53529444445d')\"\n",
              "              title=\"Convert this dataframe to an interactive table.\"\n",
              "              style=\"display:none;\">\n",
              "        \n",
              "  <svg xmlns=\"http://www.w3.org/2000/svg\" height=\"24px\"viewBox=\"0 0 24 24\"\n",
              "       width=\"24px\">\n",
              "    <path d=\"M0 0h24v24H0V0z\" fill=\"none\"/>\n",
              "    <path d=\"M18.56 5.44l.94 2.06.94-2.06 2.06-.94-2.06-.94-.94-2.06-.94 2.06-2.06.94zm-11 1L8.5 8.5l.94-2.06 2.06-.94-2.06-.94L8.5 2.5l-.94 2.06-2.06.94zm10 10l.94 2.06.94-2.06 2.06-.94-2.06-.94-.94-2.06-.94 2.06-2.06.94z\"/><path d=\"M17.41 7.96l-1.37-1.37c-.4-.4-.92-.59-1.43-.59-.52 0-1.04.2-1.43.59L10.3 9.45l-7.72 7.72c-.78.78-.78 2.05 0 2.83L4 21.41c.39.39.9.59 1.41.59.51 0 1.02-.2 1.41-.59l7.78-7.78 2.81-2.81c.8-.78.8-2.07 0-2.86zM5.41 20L4 18.59l7.72-7.72 1.47 1.35L5.41 20z\"/>\n",
              "  </svg>\n",
              "      </button>\n",
              "      \n",
              "  <style>\n",
              "    .colab-df-container {\n",
              "      display:flex;\n",
              "      flex-wrap:wrap;\n",
              "      gap: 12px;\n",
              "    }\n",
              "\n",
              "    .colab-df-convert {\n",
              "      background-color: #E8F0FE;\n",
              "      border: none;\n",
              "      border-radius: 50%;\n",
              "      cursor: pointer;\n",
              "      display: none;\n",
              "      fill: #1967D2;\n",
              "      height: 32px;\n",
              "      padding: 0 0 0 0;\n",
              "      width: 32px;\n",
              "    }\n",
              "\n",
              "    .colab-df-convert:hover {\n",
              "      background-color: #E2EBFA;\n",
              "      box-shadow: 0px 1px 2px rgba(60, 64, 67, 0.3), 0px 1px 3px 1px rgba(60, 64, 67, 0.15);\n",
              "      fill: #174EA6;\n",
              "    }\n",
              "\n",
              "    [theme=dark] .colab-df-convert {\n",
              "      background-color: #3B4455;\n",
              "      fill: #D2E3FC;\n",
              "    }\n",
              "\n",
              "    [theme=dark] .colab-df-convert:hover {\n",
              "      background-color: #434B5C;\n",
              "      box-shadow: 0px 1px 3px 1px rgba(0, 0, 0, 0.15);\n",
              "      filter: drop-shadow(0px 1px 2px rgba(0, 0, 0, 0.3));\n",
              "      fill: #FFFFFF;\n",
              "    }\n",
              "  </style>\n",
              "\n",
              "      <script>\n",
              "        const buttonEl =\n",
              "          document.querySelector('#df-360a26a4-00bf-4410-be3e-53529444445d button.colab-df-convert');\n",
              "        buttonEl.style.display =\n",
              "          google.colab.kernel.accessAllowed ? 'block' : 'none';\n",
              "\n",
              "        async function convertToInteractive(key) {\n",
              "          const element = document.querySelector('#df-360a26a4-00bf-4410-be3e-53529444445d');\n",
              "          const dataTable =\n",
              "            await google.colab.kernel.invokeFunction('convertToInteractive',\n",
              "                                                     [key], {});\n",
              "          if (!dataTable) return;\n",
              "\n",
              "          const docLinkHtml = 'Like what you see? Visit the ' +\n",
              "            '<a target=\"_blank\" href=https://colab.research.google.com/notebooks/data_table.ipynb>data table notebook</a>'\n",
              "            + ' to learn more about interactive tables.';\n",
              "          element.innerHTML = '';\n",
              "          dataTable['output_type'] = 'display_data';\n",
              "          await google.colab.output.renderOutput(dataTable, element);\n",
              "          const docLink = document.createElement('div');\n",
              "          docLink.innerHTML = docLinkHtml;\n",
              "          element.appendChild(docLink);\n",
              "        }\n",
              "      </script>\n",
              "    </div>\n",
              "  </div>\n",
              "  "
            ]
          },
          "metadata": {},
          "execution_count": 8
        }
      ],
      "source": [
        "df.sample(10)"
      ]
    },
    {
      "cell_type": "code",
      "execution_count": 9,
      "id": "b05a8310",
      "metadata": {
        "collapsed": true,
        "colab": {
          "base_uri": "https://localhost:8080/"
        },
        "id": "b05a8310",
        "outputId": "a816da3f-1584-47d6-a992-6f1a9cb85144"
      },
      "outputs": [
        {
          "output_type": "stream",
          "name": "stdout",
          "text": [
            "<class 'pandas.core.frame.DataFrame'>\n",
            "RangeIndex: 18885 entries, 0 to 18884\n",
            "Data columns (total 12 columns):\n",
            " #   Column                       Non-Null Count  Dtype \n",
            "---  ------                       --------------  ----- \n",
            " 0   Activity Period              18885 non-null  int64 \n",
            " 1   Operating Airline            18885 non-null  object\n",
            " 2   Operating Airline IATA Code  18822 non-null  object\n",
            " 3   Published Airline            18885 non-null  object\n",
            " 4   Published Airline IATA Code  18822 non-null  object\n",
            " 5   GEO Summary                  18885 non-null  object\n",
            " 6   GEO Region                   18885 non-null  object\n",
            " 7   Activity Type Code           18885 non-null  object\n",
            " 8   Price Category Code          18885 non-null  object\n",
            " 9   Terminal                     18885 non-null  object\n",
            " 10  Boarding Area                18885 non-null  object\n",
            " 11  Passenger Count              18885 non-null  int64 \n",
            "dtypes: int64(2), object(10)\n",
            "memory usage: 1.7+ MB\n"
          ]
        }
      ],
      "source": [
        "df.info()"
      ]
    },
    {
      "cell_type": "code",
      "execution_count": 10,
      "id": "a1094c98",
      "metadata": {
        "collapsed": true,
        "colab": {
          "base_uri": "https://localhost:8080/"
        },
        "id": "a1094c98",
        "outputId": "0e3de7a8-b01f-40cc-f2a6-0c4a6b7a0770"
      },
      "outputs": [
        {
          "output_type": "execute_result",
          "data": {
            "text/plain": [
              "Activity Period                 0\n",
              "Operating Airline               0\n",
              "Operating Airline IATA Code    63\n",
              "Published Airline               0\n",
              "Published Airline IATA Code    63\n",
              "GEO Summary                     0\n",
              "GEO Region                      0\n",
              "Activity Type Code              0\n",
              "Price Category Code             0\n",
              "Terminal                        0\n",
              "Boarding Area                   0\n",
              "Passenger Count                 0\n",
              "dtype: int64"
            ]
          },
          "metadata": {},
          "execution_count": 10
        }
      ],
      "source": [
        "df.isnull().sum() #boşları doldurmaya gerek yok"
      ]
    },
    {
      "cell_type": "code",
      "execution_count": 11,
      "id": "f1eaf7b8",
      "metadata": {
        "collapsed": true,
        "colab": {
          "base_uri": "https://localhost:8080/",
          "height": 300
        },
        "id": "f1eaf7b8",
        "outputId": "c5af93a7-7b4d-4b32-9eed-25369a2295b6"
      },
      "outputs": [
        {
          "output_type": "execute_result",
          "data": {
            "text/plain": [
              "       Activity Period  Passenger Count\n",
              "count     18885.000000     18885.000000\n",
              "mean     201179.285994     29876.744400\n",
              "std         385.755460     60626.072969\n",
              "min      200507.000000         1.000000\n",
              "25%      200811.000000      5352.000000\n",
              "50%      201204.000000      9170.000000\n",
              "75%      201509.000000     20718.000000\n",
              "max      201806.000000    659837.000000"
            ],
            "text/html": [
              "\n",
              "  <div id=\"df-45485c59-a071-468f-b56a-4c1a62c5f153\">\n",
              "    <div class=\"colab-df-container\">\n",
              "      <div>\n",
              "<style scoped>\n",
              "    .dataframe tbody tr th:only-of-type {\n",
              "        vertical-align: middle;\n",
              "    }\n",
              "\n",
              "    .dataframe tbody tr th {\n",
              "        vertical-align: top;\n",
              "    }\n",
              "\n",
              "    .dataframe thead th {\n",
              "        text-align: right;\n",
              "    }\n",
              "</style>\n",
              "<table border=\"1\" class=\"dataframe\">\n",
              "  <thead>\n",
              "    <tr style=\"text-align: right;\">\n",
              "      <th></th>\n",
              "      <th>Activity Period</th>\n",
              "      <th>Passenger Count</th>\n",
              "    </tr>\n",
              "  </thead>\n",
              "  <tbody>\n",
              "    <tr>\n",
              "      <th>count</th>\n",
              "      <td>18885.000000</td>\n",
              "      <td>18885.000000</td>\n",
              "    </tr>\n",
              "    <tr>\n",
              "      <th>mean</th>\n",
              "      <td>201179.285994</td>\n",
              "      <td>29876.744400</td>\n",
              "    </tr>\n",
              "    <tr>\n",
              "      <th>std</th>\n",
              "      <td>385.755460</td>\n",
              "      <td>60626.072969</td>\n",
              "    </tr>\n",
              "    <tr>\n",
              "      <th>min</th>\n",
              "      <td>200507.000000</td>\n",
              "      <td>1.000000</td>\n",
              "    </tr>\n",
              "    <tr>\n",
              "      <th>25%</th>\n",
              "      <td>200811.000000</td>\n",
              "      <td>5352.000000</td>\n",
              "    </tr>\n",
              "    <tr>\n",
              "      <th>50%</th>\n",
              "      <td>201204.000000</td>\n",
              "      <td>9170.000000</td>\n",
              "    </tr>\n",
              "    <tr>\n",
              "      <th>75%</th>\n",
              "      <td>201509.000000</td>\n",
              "      <td>20718.000000</td>\n",
              "    </tr>\n",
              "    <tr>\n",
              "      <th>max</th>\n",
              "      <td>201806.000000</td>\n",
              "      <td>659837.000000</td>\n",
              "    </tr>\n",
              "  </tbody>\n",
              "</table>\n",
              "</div>\n",
              "      <button class=\"colab-df-convert\" onclick=\"convertToInteractive('df-45485c59-a071-468f-b56a-4c1a62c5f153')\"\n",
              "              title=\"Convert this dataframe to an interactive table.\"\n",
              "              style=\"display:none;\">\n",
              "        \n",
              "  <svg xmlns=\"http://www.w3.org/2000/svg\" height=\"24px\"viewBox=\"0 0 24 24\"\n",
              "       width=\"24px\">\n",
              "    <path d=\"M0 0h24v24H0V0z\" fill=\"none\"/>\n",
              "    <path d=\"M18.56 5.44l.94 2.06.94-2.06 2.06-.94-2.06-.94-.94-2.06-.94 2.06-2.06.94zm-11 1L8.5 8.5l.94-2.06 2.06-.94-2.06-.94L8.5 2.5l-.94 2.06-2.06.94zm10 10l.94 2.06.94-2.06 2.06-.94-2.06-.94-.94-2.06-.94 2.06-2.06.94z\"/><path d=\"M17.41 7.96l-1.37-1.37c-.4-.4-.92-.59-1.43-.59-.52 0-1.04.2-1.43.59L10.3 9.45l-7.72 7.72c-.78.78-.78 2.05 0 2.83L4 21.41c.39.39.9.59 1.41.59.51 0 1.02-.2 1.41-.59l7.78-7.78 2.81-2.81c.8-.78.8-2.07 0-2.86zM5.41 20L4 18.59l7.72-7.72 1.47 1.35L5.41 20z\"/>\n",
              "  </svg>\n",
              "      </button>\n",
              "      \n",
              "  <style>\n",
              "    .colab-df-container {\n",
              "      display:flex;\n",
              "      flex-wrap:wrap;\n",
              "      gap: 12px;\n",
              "    }\n",
              "\n",
              "    .colab-df-convert {\n",
              "      background-color: #E8F0FE;\n",
              "      border: none;\n",
              "      border-radius: 50%;\n",
              "      cursor: pointer;\n",
              "      display: none;\n",
              "      fill: #1967D2;\n",
              "      height: 32px;\n",
              "      padding: 0 0 0 0;\n",
              "      width: 32px;\n",
              "    }\n",
              "\n",
              "    .colab-df-convert:hover {\n",
              "      background-color: #E2EBFA;\n",
              "      box-shadow: 0px 1px 2px rgba(60, 64, 67, 0.3), 0px 1px 3px 1px rgba(60, 64, 67, 0.15);\n",
              "      fill: #174EA6;\n",
              "    }\n",
              "\n",
              "    [theme=dark] .colab-df-convert {\n",
              "      background-color: #3B4455;\n",
              "      fill: #D2E3FC;\n",
              "    }\n",
              "\n",
              "    [theme=dark] .colab-df-convert:hover {\n",
              "      background-color: #434B5C;\n",
              "      box-shadow: 0px 1px 3px 1px rgba(0, 0, 0, 0.15);\n",
              "      filter: drop-shadow(0px 1px 2px rgba(0, 0, 0, 0.3));\n",
              "      fill: #FFFFFF;\n",
              "    }\n",
              "  </style>\n",
              "\n",
              "      <script>\n",
              "        const buttonEl =\n",
              "          document.querySelector('#df-45485c59-a071-468f-b56a-4c1a62c5f153 button.colab-df-convert');\n",
              "        buttonEl.style.display =\n",
              "          google.colab.kernel.accessAllowed ? 'block' : 'none';\n",
              "\n",
              "        async function convertToInteractive(key) {\n",
              "          const element = document.querySelector('#df-45485c59-a071-468f-b56a-4c1a62c5f153');\n",
              "          const dataTable =\n",
              "            await google.colab.kernel.invokeFunction('convertToInteractive',\n",
              "                                                     [key], {});\n",
              "          if (!dataTable) return;\n",
              "\n",
              "          const docLinkHtml = 'Like what you see? Visit the ' +\n",
              "            '<a target=\"_blank\" href=https://colab.research.google.com/notebooks/data_table.ipynb>data table notebook</a>'\n",
              "            + ' to learn more about interactive tables.';\n",
              "          element.innerHTML = '';\n",
              "          dataTable['output_type'] = 'display_data';\n",
              "          await google.colab.output.renderOutput(dataTable, element);\n",
              "          const docLink = document.createElement('div');\n",
              "          docLink.innerHTML = docLinkHtml;\n",
              "          element.appendChild(docLink);\n",
              "        }\n",
              "      </script>\n",
              "    </div>\n",
              "  </div>\n",
              "  "
            ]
          },
          "metadata": {},
          "execution_count": 11
        }
      ],
      "source": [
        "df.describe()#tarih arası ayrım yapılmadığından bağlantılar sahih değil"
      ]
    },
    {
      "cell_type": "code",
      "execution_count": 12,
      "id": "80c41552",
      "metadata": {
        "collapsed": true,
        "colab": {
          "base_uri": "https://localhost:8080/",
          "height": 112
        },
        "id": "80c41552",
        "outputId": "f47fe5fb-2679-4482-c4c3-d2a78a92974b"
      },
      "outputs": [
        {
          "output_type": "execute_result",
          "data": {
            "text/plain": [
              "                 Activity Period  Passenger Count\n",
              "Activity Period         1.000000         0.050677\n",
              "Passenger Count         0.050677         1.000000"
            ],
            "text/html": [
              "\n",
              "  <div id=\"df-d96a6199-cfc1-4ed3-aa27-8120f3ab8df1\">\n",
              "    <div class=\"colab-df-container\">\n",
              "      <div>\n",
              "<style scoped>\n",
              "    .dataframe tbody tr th:only-of-type {\n",
              "        vertical-align: middle;\n",
              "    }\n",
              "\n",
              "    .dataframe tbody tr th {\n",
              "        vertical-align: top;\n",
              "    }\n",
              "\n",
              "    .dataframe thead th {\n",
              "        text-align: right;\n",
              "    }\n",
              "</style>\n",
              "<table border=\"1\" class=\"dataframe\">\n",
              "  <thead>\n",
              "    <tr style=\"text-align: right;\">\n",
              "      <th></th>\n",
              "      <th>Activity Period</th>\n",
              "      <th>Passenger Count</th>\n",
              "    </tr>\n",
              "  </thead>\n",
              "  <tbody>\n",
              "    <tr>\n",
              "      <th>Activity Period</th>\n",
              "      <td>1.000000</td>\n",
              "      <td>0.050677</td>\n",
              "    </tr>\n",
              "    <tr>\n",
              "      <th>Passenger Count</th>\n",
              "      <td>0.050677</td>\n",
              "      <td>1.000000</td>\n",
              "    </tr>\n",
              "  </tbody>\n",
              "</table>\n",
              "</div>\n",
              "      <button class=\"colab-df-convert\" onclick=\"convertToInteractive('df-d96a6199-cfc1-4ed3-aa27-8120f3ab8df1')\"\n",
              "              title=\"Convert this dataframe to an interactive table.\"\n",
              "              style=\"display:none;\">\n",
              "        \n",
              "  <svg xmlns=\"http://www.w3.org/2000/svg\" height=\"24px\"viewBox=\"0 0 24 24\"\n",
              "       width=\"24px\">\n",
              "    <path d=\"M0 0h24v24H0V0z\" fill=\"none\"/>\n",
              "    <path d=\"M18.56 5.44l.94 2.06.94-2.06 2.06-.94-2.06-.94-.94-2.06-.94 2.06-2.06.94zm-11 1L8.5 8.5l.94-2.06 2.06-.94-2.06-.94L8.5 2.5l-.94 2.06-2.06.94zm10 10l.94 2.06.94-2.06 2.06-.94-2.06-.94-.94-2.06-.94 2.06-2.06.94z\"/><path d=\"M17.41 7.96l-1.37-1.37c-.4-.4-.92-.59-1.43-.59-.52 0-1.04.2-1.43.59L10.3 9.45l-7.72 7.72c-.78.78-.78 2.05 0 2.83L4 21.41c.39.39.9.59 1.41.59.51 0 1.02-.2 1.41-.59l7.78-7.78 2.81-2.81c.8-.78.8-2.07 0-2.86zM5.41 20L4 18.59l7.72-7.72 1.47 1.35L5.41 20z\"/>\n",
              "  </svg>\n",
              "      </button>\n",
              "      \n",
              "  <style>\n",
              "    .colab-df-container {\n",
              "      display:flex;\n",
              "      flex-wrap:wrap;\n",
              "      gap: 12px;\n",
              "    }\n",
              "\n",
              "    .colab-df-convert {\n",
              "      background-color: #E8F0FE;\n",
              "      border: none;\n",
              "      border-radius: 50%;\n",
              "      cursor: pointer;\n",
              "      display: none;\n",
              "      fill: #1967D2;\n",
              "      height: 32px;\n",
              "      padding: 0 0 0 0;\n",
              "      width: 32px;\n",
              "    }\n",
              "\n",
              "    .colab-df-convert:hover {\n",
              "      background-color: #E2EBFA;\n",
              "      box-shadow: 0px 1px 2px rgba(60, 64, 67, 0.3), 0px 1px 3px 1px rgba(60, 64, 67, 0.15);\n",
              "      fill: #174EA6;\n",
              "    }\n",
              "\n",
              "    [theme=dark] .colab-df-convert {\n",
              "      background-color: #3B4455;\n",
              "      fill: #D2E3FC;\n",
              "    }\n",
              "\n",
              "    [theme=dark] .colab-df-convert:hover {\n",
              "      background-color: #434B5C;\n",
              "      box-shadow: 0px 1px 3px 1px rgba(0, 0, 0, 0.15);\n",
              "      filter: drop-shadow(0px 1px 2px rgba(0, 0, 0, 0.3));\n",
              "      fill: #FFFFFF;\n",
              "    }\n",
              "  </style>\n",
              "\n",
              "      <script>\n",
              "        const buttonEl =\n",
              "          document.querySelector('#df-d96a6199-cfc1-4ed3-aa27-8120f3ab8df1 button.colab-df-convert');\n",
              "        buttonEl.style.display =\n",
              "          google.colab.kernel.accessAllowed ? 'block' : 'none';\n",
              "\n",
              "        async function convertToInteractive(key) {\n",
              "          const element = document.querySelector('#df-d96a6199-cfc1-4ed3-aa27-8120f3ab8df1');\n",
              "          const dataTable =\n",
              "            await google.colab.kernel.invokeFunction('convertToInteractive',\n",
              "                                                     [key], {});\n",
              "          if (!dataTable) return;\n",
              "\n",
              "          const docLinkHtml = 'Like what you see? Visit the ' +\n",
              "            '<a target=\"_blank\" href=https://colab.research.google.com/notebooks/data_table.ipynb>data table notebook</a>'\n",
              "            + ' to learn more about interactive tables.';\n",
              "          element.innerHTML = '';\n",
              "          dataTable['output_type'] = 'display_data';\n",
              "          await google.colab.output.renderOutput(dataTable, element);\n",
              "          const docLink = document.createElement('div');\n",
              "          docLink.innerHTML = docLinkHtml;\n",
              "          element.appendChild(docLink);\n",
              "        }\n",
              "      </script>\n",
              "    </div>\n",
              "  </div>\n",
              "  "
            ]
          },
          "metadata": {},
          "execution_count": 12
        }
      ],
      "source": [
        "df.corr()"
      ]
    },
    {
      "cell_type": "code",
      "execution_count": 13,
      "id": "2b2b39cf",
      "metadata": {
        "colab": {
          "base_uri": "https://localhost:8080/"
        },
        "id": "2b2b39cf",
        "outputId": "89ea7178-52c5-4c5a-c43b-c2873f4b76d3"
      },
      "outputs": [
        {
          "output_type": "execute_result",
          "data": {
            "text/plain": [
              "0"
            ]
          },
          "metadata": {},
          "execution_count": 13
        }
      ],
      "source": [
        "df.duplicated().sum()"
      ]
    },
    {
      "cell_type": "code",
      "execution_count": 14,
      "id": "7ef32af1",
      "metadata": {
        "id": "7ef32af1"
      },
      "outputs": [],
      "source": [
        "#Lazım olanlar: Activity Period-Terminal-Passenger Count"
      ]
    },
    {
      "cell_type": "code",
      "execution_count": 15,
      "id": "ace78858",
      "metadata": {
        "scrolled": true,
        "colab": {
          "base_uri": "https://localhost:8080/",
          "height": 159
        },
        "id": "ace78858",
        "outputId": "7a156fda-f511-471e-bb5e-29a70c2f8d0a"
      },
      "outputs": [
        {
          "output_type": "execute_result",
          "data": {
            "text/plain": [
              "   Activity Period Operating Airline Operating Airline IATA Code  \\\n",
              "0           200507      ATA Airlines                          TZ   \n",
              "\n",
              "  Published Airline Published Airline IATA Code GEO Summary GEO Region  \\\n",
              "0      ATA Airlines                          TZ    Domestic         US   \n",
              "\n",
              "  Activity Type Code Price Category Code    Terminal Boarding Area  \\\n",
              "0           Deplaned            Low Fare  Terminal 1             B   \n",
              "\n",
              "   Passenger Count  \n",
              "0            27271  "
            ],
            "text/html": [
              "\n",
              "  <div id=\"df-64d6eae0-86d0-4207-9b6a-44894c3a5434\">\n",
              "    <div class=\"colab-df-container\">\n",
              "      <div>\n",
              "<style scoped>\n",
              "    .dataframe tbody tr th:only-of-type {\n",
              "        vertical-align: middle;\n",
              "    }\n",
              "\n",
              "    .dataframe tbody tr th {\n",
              "        vertical-align: top;\n",
              "    }\n",
              "\n",
              "    .dataframe thead th {\n",
              "        text-align: right;\n",
              "    }\n",
              "</style>\n",
              "<table border=\"1\" class=\"dataframe\">\n",
              "  <thead>\n",
              "    <tr style=\"text-align: right;\">\n",
              "      <th></th>\n",
              "      <th>Activity Period</th>\n",
              "      <th>Operating Airline</th>\n",
              "      <th>Operating Airline IATA Code</th>\n",
              "      <th>Published Airline</th>\n",
              "      <th>Published Airline IATA Code</th>\n",
              "      <th>GEO Summary</th>\n",
              "      <th>GEO Region</th>\n",
              "      <th>Activity Type Code</th>\n",
              "      <th>Price Category Code</th>\n",
              "      <th>Terminal</th>\n",
              "      <th>Boarding Area</th>\n",
              "      <th>Passenger Count</th>\n",
              "    </tr>\n",
              "  </thead>\n",
              "  <tbody>\n",
              "    <tr>\n",
              "      <th>0</th>\n",
              "      <td>200507</td>\n",
              "      <td>ATA Airlines</td>\n",
              "      <td>TZ</td>\n",
              "      <td>ATA Airlines</td>\n",
              "      <td>TZ</td>\n",
              "      <td>Domestic</td>\n",
              "      <td>US</td>\n",
              "      <td>Deplaned</td>\n",
              "      <td>Low Fare</td>\n",
              "      <td>Terminal 1</td>\n",
              "      <td>B</td>\n",
              "      <td>27271</td>\n",
              "    </tr>\n",
              "  </tbody>\n",
              "</table>\n",
              "</div>\n",
              "      <button class=\"colab-df-convert\" onclick=\"convertToInteractive('df-64d6eae0-86d0-4207-9b6a-44894c3a5434')\"\n",
              "              title=\"Convert this dataframe to an interactive table.\"\n",
              "              style=\"display:none;\">\n",
              "        \n",
              "  <svg xmlns=\"http://www.w3.org/2000/svg\" height=\"24px\"viewBox=\"0 0 24 24\"\n",
              "       width=\"24px\">\n",
              "    <path d=\"M0 0h24v24H0V0z\" fill=\"none\"/>\n",
              "    <path d=\"M18.56 5.44l.94 2.06.94-2.06 2.06-.94-2.06-.94-.94-2.06-.94 2.06-2.06.94zm-11 1L8.5 8.5l.94-2.06 2.06-.94-2.06-.94L8.5 2.5l-.94 2.06-2.06.94zm10 10l.94 2.06.94-2.06 2.06-.94-2.06-.94-.94-2.06-.94 2.06-2.06.94z\"/><path d=\"M17.41 7.96l-1.37-1.37c-.4-.4-.92-.59-1.43-.59-.52 0-1.04.2-1.43.59L10.3 9.45l-7.72 7.72c-.78.78-.78 2.05 0 2.83L4 21.41c.39.39.9.59 1.41.59.51 0 1.02-.2 1.41-.59l7.78-7.78 2.81-2.81c.8-.78.8-2.07 0-2.86zM5.41 20L4 18.59l7.72-7.72 1.47 1.35L5.41 20z\"/>\n",
              "  </svg>\n",
              "      </button>\n",
              "      \n",
              "  <style>\n",
              "    .colab-df-container {\n",
              "      display:flex;\n",
              "      flex-wrap:wrap;\n",
              "      gap: 12px;\n",
              "    }\n",
              "\n",
              "    .colab-df-convert {\n",
              "      background-color: #E8F0FE;\n",
              "      border: none;\n",
              "      border-radius: 50%;\n",
              "      cursor: pointer;\n",
              "      display: none;\n",
              "      fill: #1967D2;\n",
              "      height: 32px;\n",
              "      padding: 0 0 0 0;\n",
              "      width: 32px;\n",
              "    }\n",
              "\n",
              "    .colab-df-convert:hover {\n",
              "      background-color: #E2EBFA;\n",
              "      box-shadow: 0px 1px 2px rgba(60, 64, 67, 0.3), 0px 1px 3px 1px rgba(60, 64, 67, 0.15);\n",
              "      fill: #174EA6;\n",
              "    }\n",
              "\n",
              "    [theme=dark] .colab-df-convert {\n",
              "      background-color: #3B4455;\n",
              "      fill: #D2E3FC;\n",
              "    }\n",
              "\n",
              "    [theme=dark] .colab-df-convert:hover {\n",
              "      background-color: #434B5C;\n",
              "      box-shadow: 0px 1px 3px 1px rgba(0, 0, 0, 0.15);\n",
              "      filter: drop-shadow(0px 1px 2px rgba(0, 0, 0, 0.3));\n",
              "      fill: #FFFFFF;\n",
              "    }\n",
              "  </style>\n",
              "\n",
              "      <script>\n",
              "        const buttonEl =\n",
              "          document.querySelector('#df-64d6eae0-86d0-4207-9b6a-44894c3a5434 button.colab-df-convert');\n",
              "        buttonEl.style.display =\n",
              "          google.colab.kernel.accessAllowed ? 'block' : 'none';\n",
              "\n",
              "        async function convertToInteractive(key) {\n",
              "          const element = document.querySelector('#df-64d6eae0-86d0-4207-9b6a-44894c3a5434');\n",
              "          const dataTable =\n",
              "            await google.colab.kernel.invokeFunction('convertToInteractive',\n",
              "                                                     [key], {});\n",
              "          if (!dataTable) return;\n",
              "\n",
              "          const docLinkHtml = 'Like what you see? Visit the ' +\n",
              "            '<a target=\"_blank\" href=https://colab.research.google.com/notebooks/data_table.ipynb>data table notebook</a>'\n",
              "            + ' to learn more about interactive tables.';\n",
              "          element.innerHTML = '';\n",
              "          dataTable['output_type'] = 'display_data';\n",
              "          await google.colab.output.renderOutput(dataTable, element);\n",
              "          const docLink = document.createElement('div');\n",
              "          docLink.innerHTML = docLinkHtml;\n",
              "          element.appendChild(docLink);\n",
              "        }\n",
              "      </script>\n",
              "    </div>\n",
              "  </div>\n",
              "  "
            ]
          },
          "metadata": {},
          "execution_count": 15
        }
      ],
      "source": [
        "df.head(1)"
      ]
    },
    {
      "cell_type": "code",
      "execution_count": 16,
      "id": "f0955d7c",
      "metadata": {
        "id": "f0955d7c"
      },
      "outputs": [],
      "source": [
        "#veri setindeki yıl ve ayı ayıralım\n",
        "df[\"Faaliyet_Ayı\"]=df[\"Activity Period\"].astype(str).str[4:]\n",
        "df[\"Faaliyet_Yılı\"]=df[\"Activity Period\"].astype(str).str[:4]\n",
        "df[\"Faaliyet_Ayı\"]=df[\"Faaliyet_Ayı\"].astype(int)\n",
        "df[\"Faaliyet_Yılı\"]=df[\"Faaliyet_Yılı\"].astype(int)\n",
        "del df[\"Activity Period\"]"
      ]
    },
    {
      "cell_type": "code",
      "execution_count": 17,
      "id": "79b5e45c",
      "metadata": {
        "scrolled": true,
        "colab": {
          "base_uri": "https://localhost:8080/",
          "height": 177
        },
        "id": "79b5e45c",
        "outputId": "c5f2b317-680a-4bca-8c18-33f92f6e0602"
      },
      "outputs": [
        {
          "output_type": "execute_result",
          "data": {
            "text/plain": [
              "  Operating Airline Operating Airline IATA Code Published Airline  \\\n",
              "0      ATA Airlines                          TZ      ATA Airlines   \n",
              "\n",
              "  Published Airline IATA Code GEO Summary GEO Region Activity Type Code  \\\n",
              "0                          TZ    Domestic         US           Deplaned   \n",
              "\n",
              "  Price Category Code    Terminal Boarding Area  Passenger Count  \\\n",
              "0            Low Fare  Terminal 1             B            27271   \n",
              "\n",
              "   Faaliyet_Ayı  Faaliyet_Yılı  \n",
              "0             7           2005  "
            ],
            "text/html": [
              "\n",
              "  <div id=\"df-a2549c9d-37fe-432b-9fac-81208c076653\">\n",
              "    <div class=\"colab-df-container\">\n",
              "      <div>\n",
              "<style scoped>\n",
              "    .dataframe tbody tr th:only-of-type {\n",
              "        vertical-align: middle;\n",
              "    }\n",
              "\n",
              "    .dataframe tbody tr th {\n",
              "        vertical-align: top;\n",
              "    }\n",
              "\n",
              "    .dataframe thead th {\n",
              "        text-align: right;\n",
              "    }\n",
              "</style>\n",
              "<table border=\"1\" class=\"dataframe\">\n",
              "  <thead>\n",
              "    <tr style=\"text-align: right;\">\n",
              "      <th></th>\n",
              "      <th>Operating Airline</th>\n",
              "      <th>Operating Airline IATA Code</th>\n",
              "      <th>Published Airline</th>\n",
              "      <th>Published Airline IATA Code</th>\n",
              "      <th>GEO Summary</th>\n",
              "      <th>GEO Region</th>\n",
              "      <th>Activity Type Code</th>\n",
              "      <th>Price Category Code</th>\n",
              "      <th>Terminal</th>\n",
              "      <th>Boarding Area</th>\n",
              "      <th>Passenger Count</th>\n",
              "      <th>Faaliyet_Ayı</th>\n",
              "      <th>Faaliyet_Yılı</th>\n",
              "    </tr>\n",
              "  </thead>\n",
              "  <tbody>\n",
              "    <tr>\n",
              "      <th>0</th>\n",
              "      <td>ATA Airlines</td>\n",
              "      <td>TZ</td>\n",
              "      <td>ATA Airlines</td>\n",
              "      <td>TZ</td>\n",
              "      <td>Domestic</td>\n",
              "      <td>US</td>\n",
              "      <td>Deplaned</td>\n",
              "      <td>Low Fare</td>\n",
              "      <td>Terminal 1</td>\n",
              "      <td>B</td>\n",
              "      <td>27271</td>\n",
              "      <td>7</td>\n",
              "      <td>2005</td>\n",
              "    </tr>\n",
              "  </tbody>\n",
              "</table>\n",
              "</div>\n",
              "      <button class=\"colab-df-convert\" onclick=\"convertToInteractive('df-a2549c9d-37fe-432b-9fac-81208c076653')\"\n",
              "              title=\"Convert this dataframe to an interactive table.\"\n",
              "              style=\"display:none;\">\n",
              "        \n",
              "  <svg xmlns=\"http://www.w3.org/2000/svg\" height=\"24px\"viewBox=\"0 0 24 24\"\n",
              "       width=\"24px\">\n",
              "    <path d=\"M0 0h24v24H0V0z\" fill=\"none\"/>\n",
              "    <path d=\"M18.56 5.44l.94 2.06.94-2.06 2.06-.94-2.06-.94-.94-2.06-.94 2.06-2.06.94zm-11 1L8.5 8.5l.94-2.06 2.06-.94-2.06-.94L8.5 2.5l-.94 2.06-2.06.94zm10 10l.94 2.06.94-2.06 2.06-.94-2.06-.94-.94-2.06-.94 2.06-2.06.94z\"/><path d=\"M17.41 7.96l-1.37-1.37c-.4-.4-.92-.59-1.43-.59-.52 0-1.04.2-1.43.59L10.3 9.45l-7.72 7.72c-.78.78-.78 2.05 0 2.83L4 21.41c.39.39.9.59 1.41.59.51 0 1.02-.2 1.41-.59l7.78-7.78 2.81-2.81c.8-.78.8-2.07 0-2.86zM5.41 20L4 18.59l7.72-7.72 1.47 1.35L5.41 20z\"/>\n",
              "  </svg>\n",
              "      </button>\n",
              "      \n",
              "  <style>\n",
              "    .colab-df-container {\n",
              "      display:flex;\n",
              "      flex-wrap:wrap;\n",
              "      gap: 12px;\n",
              "    }\n",
              "\n",
              "    .colab-df-convert {\n",
              "      background-color: #E8F0FE;\n",
              "      border: none;\n",
              "      border-radius: 50%;\n",
              "      cursor: pointer;\n",
              "      display: none;\n",
              "      fill: #1967D2;\n",
              "      height: 32px;\n",
              "      padding: 0 0 0 0;\n",
              "      width: 32px;\n",
              "    }\n",
              "\n",
              "    .colab-df-convert:hover {\n",
              "      background-color: #E2EBFA;\n",
              "      box-shadow: 0px 1px 2px rgba(60, 64, 67, 0.3), 0px 1px 3px 1px rgba(60, 64, 67, 0.15);\n",
              "      fill: #174EA6;\n",
              "    }\n",
              "\n",
              "    [theme=dark] .colab-df-convert {\n",
              "      background-color: #3B4455;\n",
              "      fill: #D2E3FC;\n",
              "    }\n",
              "\n",
              "    [theme=dark] .colab-df-convert:hover {\n",
              "      background-color: #434B5C;\n",
              "      box-shadow: 0px 1px 3px 1px rgba(0, 0, 0, 0.15);\n",
              "      filter: drop-shadow(0px 1px 2px rgba(0, 0, 0, 0.3));\n",
              "      fill: #FFFFFF;\n",
              "    }\n",
              "  </style>\n",
              "\n",
              "      <script>\n",
              "        const buttonEl =\n",
              "          document.querySelector('#df-a2549c9d-37fe-432b-9fac-81208c076653 button.colab-df-convert');\n",
              "        buttonEl.style.display =\n",
              "          google.colab.kernel.accessAllowed ? 'block' : 'none';\n",
              "\n",
              "        async function convertToInteractive(key) {\n",
              "          const element = document.querySelector('#df-a2549c9d-37fe-432b-9fac-81208c076653');\n",
              "          const dataTable =\n",
              "            await google.colab.kernel.invokeFunction('convertToInteractive',\n",
              "                                                     [key], {});\n",
              "          if (!dataTable) return;\n",
              "\n",
              "          const docLinkHtml = 'Like what you see? Visit the ' +\n",
              "            '<a target=\"_blank\" href=https://colab.research.google.com/notebooks/data_table.ipynb>data table notebook</a>'\n",
              "            + ' to learn more about interactive tables.';\n",
              "          element.innerHTML = '';\n",
              "          dataTable['output_type'] = 'display_data';\n",
              "          await google.colab.output.renderOutput(dataTable, element);\n",
              "          const docLink = document.createElement('div');\n",
              "          docLink.innerHTML = docLinkHtml;\n",
              "          element.appendChild(docLink);\n",
              "        }\n",
              "      </script>\n",
              "    </div>\n",
              "  </div>\n",
              "  "
            ]
          },
          "metadata": {},
          "execution_count": 17
        }
      ],
      "source": [
        "df.head(1)"
      ]
    },
    {
      "cell_type": "markdown",
      "id": "bcd54bd4",
      "metadata": {
        "id": "bcd54bd4"
      },
      "source": [
        "### Dictionary"
      ]
    },
    {
      "cell_type": "code",
      "execution_count": 18,
      "id": "1d1f56ab",
      "metadata": {
        "id": "1d1f56ab"
      },
      "outputs": [],
      "source": [
        "df=df.rename(columns={'Passenger Count': 'Yolcu_Sayisi', 'Operating Airline': 'Ucus_sirketi'})"
      ]
    },
    {
      "cell_type": "code",
      "execution_count": 19,
      "id": "3c594c2e",
      "metadata": {
        "id": "3c594c2e"
      },
      "outputs": [],
      "source": [
        "del df[\"Operating Airline IATA Code\"]"
      ]
    },
    {
      "cell_type": "code",
      "execution_count": 20,
      "id": "71266d79",
      "metadata": {
        "id": "71266d79"
      },
      "outputs": [],
      "source": [
        "del df[\"Published Airline IATA Code\"]"
      ]
    },
    {
      "cell_type": "code",
      "execution_count": 21,
      "id": "78b5de36",
      "metadata": {
        "id": "78b5de36"
      },
      "outputs": [],
      "source": [
        "del df[\"Price Category Code\"]"
      ]
    },
    {
      "cell_type": "code",
      "execution_count": 22,
      "id": "bfd47377",
      "metadata": {
        "colab": {
          "base_uri": "https://localhost:8080/",
          "height": 81
        },
        "id": "bfd47377",
        "outputId": "03b68554-11e2-4a3c-e9da-ca4a34fb0dac"
      },
      "outputs": [
        {
          "output_type": "execute_result",
          "data": {
            "text/plain": [
              "   Ucus_sirketi Published Airline GEO Summary GEO Region Activity Type Code  \\\n",
              "0  ATA Airlines      ATA Airlines    Domestic         US           Deplaned   \n",
              "\n",
              "     Terminal Boarding Area  Yolcu_Sayisi  Faaliyet_Ayı  Faaliyet_Yılı  \n",
              "0  Terminal 1             B         27271             7           2005  "
            ],
            "text/html": [
              "\n",
              "  <div id=\"df-c4b1cb3b-c21e-4f2b-8566-3271def56c09\">\n",
              "    <div class=\"colab-df-container\">\n",
              "      <div>\n",
              "<style scoped>\n",
              "    .dataframe tbody tr th:only-of-type {\n",
              "        vertical-align: middle;\n",
              "    }\n",
              "\n",
              "    .dataframe tbody tr th {\n",
              "        vertical-align: top;\n",
              "    }\n",
              "\n",
              "    .dataframe thead th {\n",
              "        text-align: right;\n",
              "    }\n",
              "</style>\n",
              "<table border=\"1\" class=\"dataframe\">\n",
              "  <thead>\n",
              "    <tr style=\"text-align: right;\">\n",
              "      <th></th>\n",
              "      <th>Ucus_sirketi</th>\n",
              "      <th>Published Airline</th>\n",
              "      <th>GEO Summary</th>\n",
              "      <th>GEO Region</th>\n",
              "      <th>Activity Type Code</th>\n",
              "      <th>Terminal</th>\n",
              "      <th>Boarding Area</th>\n",
              "      <th>Yolcu_Sayisi</th>\n",
              "      <th>Faaliyet_Ayı</th>\n",
              "      <th>Faaliyet_Yılı</th>\n",
              "    </tr>\n",
              "  </thead>\n",
              "  <tbody>\n",
              "    <tr>\n",
              "      <th>0</th>\n",
              "      <td>ATA Airlines</td>\n",
              "      <td>ATA Airlines</td>\n",
              "      <td>Domestic</td>\n",
              "      <td>US</td>\n",
              "      <td>Deplaned</td>\n",
              "      <td>Terminal 1</td>\n",
              "      <td>B</td>\n",
              "      <td>27271</td>\n",
              "      <td>7</td>\n",
              "      <td>2005</td>\n",
              "    </tr>\n",
              "  </tbody>\n",
              "</table>\n",
              "</div>\n",
              "      <button class=\"colab-df-convert\" onclick=\"convertToInteractive('df-c4b1cb3b-c21e-4f2b-8566-3271def56c09')\"\n",
              "              title=\"Convert this dataframe to an interactive table.\"\n",
              "              style=\"display:none;\">\n",
              "        \n",
              "  <svg xmlns=\"http://www.w3.org/2000/svg\" height=\"24px\"viewBox=\"0 0 24 24\"\n",
              "       width=\"24px\">\n",
              "    <path d=\"M0 0h24v24H0V0z\" fill=\"none\"/>\n",
              "    <path d=\"M18.56 5.44l.94 2.06.94-2.06 2.06-.94-2.06-.94-.94-2.06-.94 2.06-2.06.94zm-11 1L8.5 8.5l.94-2.06 2.06-.94-2.06-.94L8.5 2.5l-.94 2.06-2.06.94zm10 10l.94 2.06.94-2.06 2.06-.94-2.06-.94-.94-2.06-.94 2.06-2.06.94z\"/><path d=\"M17.41 7.96l-1.37-1.37c-.4-.4-.92-.59-1.43-.59-.52 0-1.04.2-1.43.59L10.3 9.45l-7.72 7.72c-.78.78-.78 2.05 0 2.83L4 21.41c.39.39.9.59 1.41.59.51 0 1.02-.2 1.41-.59l7.78-7.78 2.81-2.81c.8-.78.8-2.07 0-2.86zM5.41 20L4 18.59l7.72-7.72 1.47 1.35L5.41 20z\"/>\n",
              "  </svg>\n",
              "      </button>\n",
              "      \n",
              "  <style>\n",
              "    .colab-df-container {\n",
              "      display:flex;\n",
              "      flex-wrap:wrap;\n",
              "      gap: 12px;\n",
              "    }\n",
              "\n",
              "    .colab-df-convert {\n",
              "      background-color: #E8F0FE;\n",
              "      border: none;\n",
              "      border-radius: 50%;\n",
              "      cursor: pointer;\n",
              "      display: none;\n",
              "      fill: #1967D2;\n",
              "      height: 32px;\n",
              "      padding: 0 0 0 0;\n",
              "      width: 32px;\n",
              "    }\n",
              "\n",
              "    .colab-df-convert:hover {\n",
              "      background-color: #E2EBFA;\n",
              "      box-shadow: 0px 1px 2px rgba(60, 64, 67, 0.3), 0px 1px 3px 1px rgba(60, 64, 67, 0.15);\n",
              "      fill: #174EA6;\n",
              "    }\n",
              "\n",
              "    [theme=dark] .colab-df-convert {\n",
              "      background-color: #3B4455;\n",
              "      fill: #D2E3FC;\n",
              "    }\n",
              "\n",
              "    [theme=dark] .colab-df-convert:hover {\n",
              "      background-color: #434B5C;\n",
              "      box-shadow: 0px 1px 3px 1px rgba(0, 0, 0, 0.15);\n",
              "      filter: drop-shadow(0px 1px 2px rgba(0, 0, 0, 0.3));\n",
              "      fill: #FFFFFF;\n",
              "    }\n",
              "  </style>\n",
              "\n",
              "      <script>\n",
              "        const buttonEl =\n",
              "          document.querySelector('#df-c4b1cb3b-c21e-4f2b-8566-3271def56c09 button.colab-df-convert');\n",
              "        buttonEl.style.display =\n",
              "          google.colab.kernel.accessAllowed ? 'block' : 'none';\n",
              "\n",
              "        async function convertToInteractive(key) {\n",
              "          const element = document.querySelector('#df-c4b1cb3b-c21e-4f2b-8566-3271def56c09');\n",
              "          const dataTable =\n",
              "            await google.colab.kernel.invokeFunction('convertToInteractive',\n",
              "                                                     [key], {});\n",
              "          if (!dataTable) return;\n",
              "\n",
              "          const docLinkHtml = 'Like what you see? Visit the ' +\n",
              "            '<a target=\"_blank\" href=https://colab.research.google.com/notebooks/data_table.ipynb>data table notebook</a>'\n",
              "            + ' to learn more about interactive tables.';\n",
              "          element.innerHTML = '';\n",
              "          dataTable['output_type'] = 'display_data';\n",
              "          await google.colab.output.renderOutput(dataTable, element);\n",
              "          const docLink = document.createElement('div');\n",
              "          docLink.innerHTML = docLinkHtml;\n",
              "          element.appendChild(docLink);\n",
              "        }\n",
              "      </script>\n",
              "    </div>\n",
              "  </div>\n",
              "  "
            ]
          },
          "metadata": {},
          "execution_count": 22
        }
      ],
      "source": [
        "df.head(1)"
      ]
    },
    {
      "cell_type": "markdown",
      "id": "7e2376a5",
      "metadata": {
        "id": "7e2376a5"
      },
      "source": [
        "### KMeans Clustering Modelling"
      ]
    },
    {
      "cell_type": "code",
      "execution_count": 23,
      "id": "729773da",
      "metadata": {
        "id": "729773da"
      },
      "outputs": [],
      "source": [
        "from sklearn.cluster import KMeans\n",
        "from sklearn.metrics import silhouette_score"
      ]
    },
    {
      "cell_type": "code",
      "execution_count": 24,
      "id": "3f663b96",
      "metadata": {
        "id": "3f663b96"
      },
      "outputs": [],
      "source": [
        "x=df[[\"Faaliyet_Yılı\",\"Faaliyet_Ayı\",\"Yolcu_Sayisi\"]]"
      ]
    },
    {
      "cell_type": "code",
      "execution_count": 25,
      "id": "18acc719",
      "metadata": {
        "colab": {
          "base_uri": "https://localhost:8080/",
          "height": 206
        },
        "id": "18acc719",
        "outputId": "15b6bf90-d824-43e7-9559-a21e4f9debfc"
      },
      "outputs": [
        {
          "output_type": "execute_result",
          "data": {
            "text/plain": [
              "   Faaliyet_Yılı  Faaliyet_Ayı  Yolcu_Sayisi\n",
              "0           2005             7         27271\n",
              "1           2005             7         29131\n",
              "2           2005             7          5415\n",
              "3           2005             7         35156\n",
              "4           2005             7         34090"
            ],
            "text/html": [
              "\n",
              "  <div id=\"df-02c9f4aa-bd51-483d-b792-9b90c89403b4\">\n",
              "    <div class=\"colab-df-container\">\n",
              "      <div>\n",
              "<style scoped>\n",
              "    .dataframe tbody tr th:only-of-type {\n",
              "        vertical-align: middle;\n",
              "    }\n",
              "\n",
              "    .dataframe tbody tr th {\n",
              "        vertical-align: top;\n",
              "    }\n",
              "\n",
              "    .dataframe thead th {\n",
              "        text-align: right;\n",
              "    }\n",
              "</style>\n",
              "<table border=\"1\" class=\"dataframe\">\n",
              "  <thead>\n",
              "    <tr style=\"text-align: right;\">\n",
              "      <th></th>\n",
              "      <th>Faaliyet_Yılı</th>\n",
              "      <th>Faaliyet_Ayı</th>\n",
              "      <th>Yolcu_Sayisi</th>\n",
              "    </tr>\n",
              "  </thead>\n",
              "  <tbody>\n",
              "    <tr>\n",
              "      <th>0</th>\n",
              "      <td>2005</td>\n",
              "      <td>7</td>\n",
              "      <td>27271</td>\n",
              "    </tr>\n",
              "    <tr>\n",
              "      <th>1</th>\n",
              "      <td>2005</td>\n",
              "      <td>7</td>\n",
              "      <td>29131</td>\n",
              "    </tr>\n",
              "    <tr>\n",
              "      <th>2</th>\n",
              "      <td>2005</td>\n",
              "      <td>7</td>\n",
              "      <td>5415</td>\n",
              "    </tr>\n",
              "    <tr>\n",
              "      <th>3</th>\n",
              "      <td>2005</td>\n",
              "      <td>7</td>\n",
              "      <td>35156</td>\n",
              "    </tr>\n",
              "    <tr>\n",
              "      <th>4</th>\n",
              "      <td>2005</td>\n",
              "      <td>7</td>\n",
              "      <td>34090</td>\n",
              "    </tr>\n",
              "  </tbody>\n",
              "</table>\n",
              "</div>\n",
              "      <button class=\"colab-df-convert\" onclick=\"convertToInteractive('df-02c9f4aa-bd51-483d-b792-9b90c89403b4')\"\n",
              "              title=\"Convert this dataframe to an interactive table.\"\n",
              "              style=\"display:none;\">\n",
              "        \n",
              "  <svg xmlns=\"http://www.w3.org/2000/svg\" height=\"24px\"viewBox=\"0 0 24 24\"\n",
              "       width=\"24px\">\n",
              "    <path d=\"M0 0h24v24H0V0z\" fill=\"none\"/>\n",
              "    <path d=\"M18.56 5.44l.94 2.06.94-2.06 2.06-.94-2.06-.94-.94-2.06-.94 2.06-2.06.94zm-11 1L8.5 8.5l.94-2.06 2.06-.94-2.06-.94L8.5 2.5l-.94 2.06-2.06.94zm10 10l.94 2.06.94-2.06 2.06-.94-2.06-.94-.94-2.06-.94 2.06-2.06.94z\"/><path d=\"M17.41 7.96l-1.37-1.37c-.4-.4-.92-.59-1.43-.59-.52 0-1.04.2-1.43.59L10.3 9.45l-7.72 7.72c-.78.78-.78 2.05 0 2.83L4 21.41c.39.39.9.59 1.41.59.51 0 1.02-.2 1.41-.59l7.78-7.78 2.81-2.81c.8-.78.8-2.07 0-2.86zM5.41 20L4 18.59l7.72-7.72 1.47 1.35L5.41 20z\"/>\n",
              "  </svg>\n",
              "      </button>\n",
              "      \n",
              "  <style>\n",
              "    .colab-df-container {\n",
              "      display:flex;\n",
              "      flex-wrap:wrap;\n",
              "      gap: 12px;\n",
              "    }\n",
              "\n",
              "    .colab-df-convert {\n",
              "      background-color: #E8F0FE;\n",
              "      border: none;\n",
              "      border-radius: 50%;\n",
              "      cursor: pointer;\n",
              "      display: none;\n",
              "      fill: #1967D2;\n",
              "      height: 32px;\n",
              "      padding: 0 0 0 0;\n",
              "      width: 32px;\n",
              "    }\n",
              "\n",
              "    .colab-df-convert:hover {\n",
              "      background-color: #E2EBFA;\n",
              "      box-shadow: 0px 1px 2px rgba(60, 64, 67, 0.3), 0px 1px 3px 1px rgba(60, 64, 67, 0.15);\n",
              "      fill: #174EA6;\n",
              "    }\n",
              "\n",
              "    [theme=dark] .colab-df-convert {\n",
              "      background-color: #3B4455;\n",
              "      fill: #D2E3FC;\n",
              "    }\n",
              "\n",
              "    [theme=dark] .colab-df-convert:hover {\n",
              "      background-color: #434B5C;\n",
              "      box-shadow: 0px 1px 3px 1px rgba(0, 0, 0, 0.15);\n",
              "      filter: drop-shadow(0px 1px 2px rgba(0, 0, 0, 0.3));\n",
              "      fill: #FFFFFF;\n",
              "    }\n",
              "  </style>\n",
              "\n",
              "      <script>\n",
              "        const buttonEl =\n",
              "          document.querySelector('#df-02c9f4aa-bd51-483d-b792-9b90c89403b4 button.colab-df-convert');\n",
              "        buttonEl.style.display =\n",
              "          google.colab.kernel.accessAllowed ? 'block' : 'none';\n",
              "\n",
              "        async function convertToInteractive(key) {\n",
              "          const element = document.querySelector('#df-02c9f4aa-bd51-483d-b792-9b90c89403b4');\n",
              "          const dataTable =\n",
              "            await google.colab.kernel.invokeFunction('convertToInteractive',\n",
              "                                                     [key], {});\n",
              "          if (!dataTable) return;\n",
              "\n",
              "          const docLinkHtml = 'Like what you see? Visit the ' +\n",
              "            '<a target=\"_blank\" href=https://colab.research.google.com/notebooks/data_table.ipynb>data table notebook</a>'\n",
              "            + ' to learn more about interactive tables.';\n",
              "          element.innerHTML = '';\n",
              "          dataTable['output_type'] = 'display_data';\n",
              "          await google.colab.output.renderOutput(dataTable, element);\n",
              "          const docLink = document.createElement('div');\n",
              "          docLink.innerHTML = docLinkHtml;\n",
              "          element.appendChild(docLink);\n",
              "        }\n",
              "      </script>\n",
              "    </div>\n",
              "  </div>\n",
              "  "
            ]
          },
          "metadata": {},
          "execution_count": 25
        }
      ],
      "source": [
        "x.head()"
      ]
    },
    {
      "cell_type": "code",
      "execution_count": 26,
      "id": "bfb05d05",
      "metadata": {
        "id": "bfb05d05"
      },
      "outputs": [],
      "source": [
        "model=KMeans(4)"
      ]
    },
    {
      "cell_type": "code",
      "execution_count": 27,
      "id": "2c6948e2",
      "metadata": {
        "collapsed": true,
        "id": "2c6948e2"
      },
      "outputs": [],
      "source": [
        "model=model.fit(x)"
      ]
    },
    {
      "cell_type": "code",
      "execution_count": 28,
      "id": "b8c297d0",
      "metadata": {
        "collapsed": true,
        "id": "b8c297d0"
      },
      "outputs": [],
      "source": [
        "pred=model.predict(x)"
      ]
    },
    {
      "cell_type": "code",
      "execution_count": 29,
      "id": "53727c40",
      "metadata": {
        "colab": {
          "base_uri": "https://localhost:8080/"
        },
        "id": "53727c40",
        "outputId": "24c9f10d-6a69-4a61-d19e-3aeb3af95c40"
      },
      "outputs": [
        {
          "output_type": "execute_result",
          "data": {
            "text/plain": [
              "array([0, 0, 0, ..., 0, 0, 0], dtype=int32)"
            ]
          },
          "metadata": {},
          "execution_count": 29
        }
      ],
      "source": [
        "pred"
      ]
    },
    {
      "cell_type": "code",
      "execution_count": 30,
      "id": "977834b2",
      "metadata": {
        "colab": {
          "base_uri": "https://localhost:8080/"
        },
        "id": "977834b2",
        "outputId": "f5c07ce3-4d67-4e89-abed-1b06e6d0a09f"
      },
      "outputs": [
        {
          "output_type": "execute_result",
          "data": {
            "text/plain": [
              "0.7861522974591099"
            ]
          },
          "metadata": {},
          "execution_count": 30
        }
      ],
      "source": [
        "silhouette_score(x,pred)"
      ]
    },
    {
      "cell_type": "code",
      "execution_count": 31,
      "id": "90ab97f9",
      "metadata": {
        "id": "90ab97f9"
      },
      "outputs": [],
      "source": [
        "x[\"cluster\"]=pred"
      ]
    },
    {
      "cell_type": "code",
      "execution_count": 32,
      "id": "4eb2abc3",
      "metadata": {
        "id": "4eb2abc3"
      },
      "outputs": [],
      "source": [
        "allscore=[]\n",
        "allcluster=[]\n",
        "distances=[]\n",
        "def clust(kactane):\n",
        "    for i in range(1,kactane):\n",
        "        i=i+1\n",
        "        model=KMeans(i)\n",
        "        model=model.fit(x)\n",
        "        tahmin=model.predict(x)\n",
        "        score=silhouette_score(x,tahmin)\n",
        "        distance=model.inertia_\n",
        "        print('Cluster ',i,\" score: \", score)\n",
        "        allscore.append(score)\n",
        "        allcluster.append(i)\n",
        "        distances.append(distance)"
      ]
    },
    {
      "cell_type": "code",
      "execution_count": 33,
      "id": "cfb663b9",
      "metadata": {
        "colab": {
          "base_uri": "https://localhost:8080/"
        },
        "id": "cfb663b9",
        "outputId": "335b60d3-67ef-4f73-89b1-20cdf83977a7"
      },
      "outputs": [
        {
          "output_type": "stream",
          "name": "stdout",
          "text": [
            "Cluster  2  score:  0.8596461178953189\n",
            "Cluster  3  score:  0.8286420153139\n",
            "Cluster  4  score:  0.7861213298016263\n",
            "Cluster  5  score:  0.7846344531203447\n",
            "Cluster  6  score:  0.6610579378174669\n",
            "Cluster  7  score:  0.6641291044379241\n",
            "Cluster  8  score:  0.6427501704541778\n",
            "Cluster  9  score:  0.6399443802540324\n",
            "Cluster  10  score:  0.6160473839504628\n"
          ]
        }
      ],
      "source": [
        "clust(10)"
      ]
    },
    {
      "cell_type": "code",
      "execution_count": 34,
      "id": "9402ad1b",
      "metadata": {
        "id": "9402ad1b"
      },
      "outputs": [],
      "source": [
        "### Veri Görselleştirmesi"
      ]
    },
    {
      "cell_type": "code",
      "execution_count": 37,
      "id": "e6718740",
      "metadata": {
        "id": "e6718740"
      },
      "outputs": [],
      "source": [
        "yıllaragore=df.groupby(df[\"Faaliyet_Yılı\"]).sum()[\"Yolcu_Sayisi\"].sort_values(ascending=False)"
      ]
    },
    {
      "cell_type": "code",
      "execution_count": 38,
      "id": "93f5d4ce",
      "metadata": {
        "colab": {
          "base_uri": "https://localhost:8080/",
          "height": 493
        },
        "id": "93f5d4ce",
        "outputId": "add42f2b-f39b-43df-9be1-ff3db9352c06"
      },
      "outputs": [
        {
          "output_type": "display_data",
          "data": {
            "text/plain": [
              "<Figure size 640x480 with 1 Axes>"
            ],
            "image/png": "[encoded data removed]"
          },
          "metadata": {}
        }
      ],
      "source": [
        "yıllaragore.plot.bar()\n",
        "plt.title(\"Yıllara göre taşınan yolcu sayıları\");"
      ]
    },
    {
      "cell_type": "markdown",
      "id": "7f135082",
      "metadata": {
        "id": "7f135082"
      },
      "source": [
        "### Yellow Brick"
      ]
    },
    {
      "cell_type": "code",
      "execution_count": 39,
      "id": "a9522a3f",
      "metadata": {
        "id": "a9522a3f"
      },
      "outputs": [],
      "source": [
        "from yellowbrick.cluster import KElbowVisualizer"
      ]
    },
    {
      "cell_type": "code",
      "execution_count": 40,
      "id": "f17920be",
      "metadata": {
        "id": "f17920be"
      },
      "outputs": [],
      "source": [
        "model=KMeans()"
      ]
    },
    {
      "cell_type": "code",
      "execution_count": 41,
      "id": "0c747ed2",
      "metadata": {
        "id": "0c747ed2"
      },
      "outputs": [],
      "source": [
        "visualizer=KElbowVisualizer(model,k=(2,10))"
      ]
    },
    {
      "cell_type": "code",
      "execution_count": 42,
      "id": "7aa255b7",
      "metadata": {
        "colab": {
          "base_uri": "https://localhost:8080/",
          "height": 599
        },
        "id": "7aa255b7",
        "outputId": "0eac8097-d2eb-4b7d-e05d-62b76c6847fb"
      },
      "outputs": [
        {
          "output_type": "execute_result",
          "data": {
            "text/plain": [
              "KElbowVisualizer(ax=<Axes: >, estimator=KMeans(n_clusters=9), k=(2, 10))"
            ],
            "text/html": [
              "<style>#sk-container-id-1 {color: black;background-color: white;}#sk-container-id-1 pre{padding: 0;}#sk-container-id-1 div.sk-toggleable {background-color: white;}#sk-container-id-1 label.sk-toggleable__label {cursor: pointer;display: block;width: 100%;margin-bottom: 0;padding: 0.3em;box-sizing: border-box;text-align: center;}#sk-container-id-1 label.sk-toggleable__label-arrow:before {content: \"▸\";float: left;margin-right: 0.25em;color: #696969;}#sk-container-id-1 label.sk-toggleable__label-arrow:hover:before {color: black;}#sk-container-id-1 div.sk-estimator:hover label.sk-toggleable__label-arrow:before {color: black;}#sk-container-id-1 div.sk-toggleable__content {max-height: 0;max-width: 0;overflow: hidden;text-align: left;background-color: #f0f8ff;}#sk-container-id-1 div.sk-toggleable__content pre {margin: 0.2em;color: black;border-radius: 0.25em;background-color: #f0f8ff;}#sk-container-id-1 input.sk-toggleable__control:checked~div.sk-toggleable__content {max-height: 200px;max-width: 100%;overflow: auto;}#sk-container-id-1 input.sk-toggleable__control:checked~label.sk-toggleable__label-arrow:before {content: \"▾\";}#sk-container-id-1 div.sk-estimator input.sk-toggleable__control:checked~label.sk-toggleable__label {background-color: #d4ebff;}#sk-container-id-1 div.sk-label input.sk-toggleable__control:checked~label.sk-toggleable__label {background-color: #d4ebff;}#sk-container-id-1 input.sk-hidden--visually {border: 0;clip: rect(1px 1px 1px 1px);clip: rect(1px, 1px, 1px, 1px);height: 1px;margin: -1px;overflow: hidden;padding: 0;position: absolute;width: 1px;}#sk-container-id-1 div.sk-estimator {font-family: monospace;background-color: #f0f8ff;border: 1px dotted black;border-radius: 0.25em;box-sizing: border-box;margin-bottom: 0.5em;}#sk-container-id-1 div.sk-estimator:hover {background-color: #d4ebff;}#sk-container-id-1 div.sk-parallel-item::after {content: \"\";width: 100%;border-bottom: 1px solid gray;flex-grow: 1;}#sk-container-id-1 div.sk-label:hover label.sk-toggleable__label {background-color: #d4ebff;}#sk-container-id-1 div.sk-serial::before {content: \"\";position: absolute;border-left: 1px solid gray;box-sizing: border-box;top: 0;bottom: 0;left: 50%;z-index: 0;}#sk-container-id-1 div.sk-serial {display: flex;flex-direction: column;align-items: center;background-color: white;padding-right: 0.2em;padding-left: 0.2em;position: relative;}#sk-container-id-1 div.sk-item {position: relative;z-index: 1;}#sk-container-id-1 div.sk-parallel {display: flex;align-items: stretch;justify-content: center;background-color: white;position: relative;}#sk-container-id-1 div.sk-item::before, #sk-container-id-1 div.sk-parallel-item::before {content: \"\";position: absolute;border-left: 1px solid gray;box-sizing: border-box;top: 0;bottom: 0;left: 50%;z-index: -1;}#sk-container-id-1 div.sk-parallel-item {display: flex;flex-direction: column;z-index: 1;position: relative;background-color: white;}#sk-container-id-1 div.sk-parallel-item:first-child::after {align-self: flex-end;width: 50%;}#sk-container-id-1 div.sk-parallel-item:last-child::after {align-self: flex-start;width: 50%;}#sk-container-id-1 div.sk-parallel-item:only-child::after {width: 0;}#sk-container-id-1 div.sk-dashed-wrapped {border: 1px dashed gray;margin: 0 0.4em 0.5em 0.4em;box-sizing: border-box;padding-bottom: 0.4em;background-color: white;}#sk-container-id-1 div.sk-label label {font-family: monospace;font-weight: bold;display: inline-block;line-height: 1.2em;}#sk-container-id-1 div.sk-label-container {text-align: center;}#sk-container-id-1 div.sk-container {/* jupyter's `normalize.less` sets `[hidden] { display: none; }` but bootstrap.min.css set `[hidden] { display: none !important; }` so we also need the `!important` here to be able to override the default hidden behavior on the sphinx rendered scikit-learn.org. See: https://github.com/scikit-learn/scikit-learn/issues/21755 */display: inline-block !important;position: relative;}#sk-container-id-1 div.sk-text-repr-fallback {display: none;}</style><div id=\"sk-container-id-1\" class=\"sk-top-container\"><div class=\"sk-text-repr-fallback\"><pre>KElbowVisualizer(ax=&lt;Axes: &gt;, estimator=KMeans(n_clusters=9), k=(2, 10))</pre><b>In a Jupyter environment, please rerun this cell to show the HTML representation or trust the notebook. <br />On GitHub, the HTML representation is unable to render, please try loading this page with nbviewer.org.</b></div><div class=\"sk-container\" hidden><div class=\"sk-item sk-dashed-wrapped\"><div class=\"sk-label-container\"><div class=\"sk-label sk-toggleable\"><input class=\"sk-toggleable__control sk-hidden--visually\" id=\"sk-estimator-id-1\" type=\"checkbox\" ><label for=\"sk-estimator-id-1\" class=\"sk-toggleable__label sk-toggleable__label-arrow\">KElbowVisualizer</label><div class=\"sk-toggleable__content\"><pre>KElbowVisualizer(ax=&lt;Axes: &gt;, estimator=KMeans(n_clusters=9), k=(2, 10))</pre></div></div></div><div class=\"sk-parallel\"><div class=\"sk-parallel-item\"><div class=\"sk-item\"><div class=\"sk-label-container\"><div class=\"sk-label sk-toggleable\"><input class=\"sk-toggleable__control sk-hidden--visually\" id=\"sk-estimator-id-2\" type=\"checkbox\" ><label for=\"sk-estimator-id-2\" class=\"sk-toggleable__label sk-toggleable__label-arrow\">estimator: KMeans</label><div class=\"sk-toggleable__content\"><pre>KMeans(n_clusters=9)</pre></div></div></div><div class=\"sk-serial\"><div class=\"sk-item\"><div class=\"sk-estimator sk-toggleable\"><input class=\"sk-toggleable__control sk-hidden--visually\" id=\"sk-estimator-id-3\" type=\"checkbox\" ><label for=\"sk-estimator-id-3\" class=\"sk-toggleable__label sk-toggleable__label-arrow\">KMeans</label><div class=\"sk-toggleable__content\"><pre>KMeans(n_clusters=9)</pre></div></div></div></div></div></div></div></div></div></div>"
            ]
          },
          "metadata": {},
          "execution_count": 42
        },
        {
          "output_type": "display_data",
          "data": {
            "text/plain": [
              "<Figure size 800x550 with 2 Axes>"
            ],
            "image/png": "[encoded data removed]"
          },
          "metadata": {}
        }
      ],
      "source": [
        "visualizer.fit(x)"
      ]
    },
    {
      "cell_type": "code",
      "execution_count": 43,
      "id": "43874ea5",
      "metadata": {
        "colab": {
          "base_uri": "https://localhost:8080/"
        },
        "id": "43874ea5",
        "outputId": "c9323c36-a3b1-4dae-d11e-743bdb6215c4"
      },
      "outputs": [
        {
          "output_type": "execute_result",
          "data": {
            "text/plain": [
              "<Axes: title={'center': 'Distortion Score Elbow for KMeans Clustering'}, xlabel='k', ylabel='distortion score'>"
            ]
          },
          "metadata": {},
          "execution_count": 43
        }
      ],
      "source": [
        "visualizer.show()"
      ]
    },
    {
      "cell_type": "code",
      "source": [],
      "metadata": {
        "id": "SLkpGX4QD_qS"
      },
      "id": "SLkpGX4QD_qS",
      "execution_count": 43,
      "outputs": []
    }
  ],
  "metadata": {
    "kernelspec": {
      "display_name": "Python 3 (ipykernel)",
      "language": "python",
      "name": "python3"
    },
    "language_info": {
      "codemirror_mode": {
        "name": "ipython",
        "version": 3
      },
      "file_extension": ".py",
      "mimetype": "text/x-python",
      "name": "python",
      "nbconvert_exporter": "python",
      "pygments_lexer": "ipython3",
      "version": "3.10.9"
    },
    "colab": {
      "provenance": []
    }
  },
  "nbformat": 4,
  "nbformat_minor": 5
}